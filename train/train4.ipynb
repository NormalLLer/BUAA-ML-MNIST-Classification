{
 "cells": [
  {
   "cell_type": "code",
   "execution_count": 1,
   "metadata": {
    "collapsed": true
   },
   "outputs": [],
   "source": [
    "import numpy as np\n",
    "import os\n",
    "\n",
    "from sklearn.preprocessing import StandardScaler\n",
    "from sklearn.svm import SVC\n",
    "from sklearn.model_selection import GridSearchCV\n",
    "\n",
    "import joblib"
   ]
  },
  {
   "cell_type": "code",
   "execution_count": 2,
   "metadata": {
    "collapsed": false
   },
   "outputs": [],
   "source": [
    "DATA_PATH = '../data'\n",
    "IMAGE_SIZE = 784  # 28 * 28"
   ]
  },
  {
   "cell_type": "code",
   "execution_count": 3,
   "metadata": {
    "collapsed": false
   },
   "outputs": [],
   "source": [
    "def load_mnist(path, kind='train'):\n",
    "    \"\"\"\n",
    "    'train-images-idx3-ubyte.gz', 'train-labels-idx1-ubyte.gz',\n",
    "    't10k-images-idx3-ubyte.gz', 't10k-labels-idx1-ubyte.gz'\n",
    "    使用前需要把上面四个文件下载到 `path` 目录下并解压\n",
    "    \"\"\"\n",
    "    labels_path = os.path.join(path, '%s-labels.idx1-ubyte' % kind)\n",
    "    images_path = os.path.join(path, '%s-images.idx3-ubyte' % kind)\n",
    "\n",
    "    with open(labels_path, 'rb') as label_file:\n",
    "        labels = np.frombuffer(label_file.read(), dtype=np.uint8, offset=8)\n",
    "\n",
    "    with open(images_path, 'rb') as image_file:\n",
    "        images = np.frombuffer(image_file.read(), dtype=np.uint8,\n",
    "                               offset=16).reshape(len(labels), IMAGE_SIZE)\n",
    "\n",
    "    return images, labels"
   ]
  },
  {
   "cell_type": "code",
   "execution_count": 4,
   "metadata": {
    "collapsed": false
   },
   "outputs": [],
   "source": [
    "# 读取 MNIST 数据集\n",
    "x_train, y_train = load_mnist(DATA_PATH, kind='train')\n",
    "# x_test, y_test = load_mnist(DATA_PATH, kind='t10k')"
   ]
  },
  {
   "cell_type": "code",
   "execution_count": 5,
   "metadata": {},
   "outputs": [],
   "source": [
    "# 特征工程：标准化\n",
    "transfer4 = StandardScaler()\n",
    "x_train = transfer4.fit_transform(x_train)"
   ]
  },
  {
   "cell_type": "code",
   "execution_count": 6,
   "metadata": {},
   "outputs": [],
   "source": [
    "# x_train = x_train[:1000]\n",
    "# y_train = y_train[:1000]"
   ]
  },
  {
   "cell_type": "code",
   "execution_count": 7,
   "metadata": {
    "collapsed": false
   },
   "outputs": [],
   "source": [
    "# SVM 分类器\n",
    "svm_model4 = SVC(kernel='poly', max_iter=5000, gamma='scale', probability=True)"
   ]
  },
  {
   "cell_type": "code",
   "execution_count": 8,
   "metadata": {
    "collapsed": false
   },
   "outputs": [],
   "source": [
    "# 网格搜索与交叉验证\n",
    "param_dict = {\n",
    "    'C': [18, 18.5, 19, 19.5, 20],\n",
    "     # 'kernel': ['linear', 'rbf', 'poly'],\n",
    "     # 'gamma': ['scale', 'auto']\n",
    "}\n",
    "svm_model4 = GridSearchCV(svm_model4, param_dict, n_jobs=-1, cv=2)"
   ]
  },
  {
   "cell_type": "code",
   "execution_count": 9,
   "metadata": {
    "collapsed": false,
    "pycharm": {
     "is_executing": true
    }
   },
   "outputs": [],
   "source": [
    "# 训练模型\n",
    "svm_model4.fit(x_train, y_train)"
   ]
  },
  {
   "cell_type": "code",
   "execution_count": null,
   "metadata": {
    "collapsed": false,
    "pycharm": {
     "is_executing": true
    }
   },
   "outputs": [],
   "source": [
    "# 在训练数据上超参数调优的结果\n",
    "print(\"最佳参数: \\n\", svm_model4.best_params_)\n",
    "print(\"最佳结果（在验证集中的结果）: \\n\", svm_model4.best_score_)\n",
    "print(\"最佳估计器: \\n\", svm_model4.best_estimator_)\n",
    "print(\"交叉验证结果: \\n\", svm_model4.cv_results_)"
   ]
  },
  {
   "cell_type": "code",
   "execution_count": null,
   "metadata": {
    "collapsed": false,
    "pycharm": {
     "is_executing": true
    }
   },
   "outputs": [],
   "source": [
    "# 保存模型\n",
    "joblib.dump(svm_model4, '../models/svm_model4.pkl')\n",
    "# 保存StandardScaler\n",
    "joblib.dump(transfer4, '../models/transfer4.pkl')"
   ]
  }
 ],
 "metadata": {
  "kernelspec": {
   "display_name": "tensorflow-py38",
   "language": "python",
   "name": "python3"
  },
  "language_info": {
   "codemirror_mode": {
    "name": "ipython",
    "version": 3
   },
   "file_extension": ".py",
   "mimetype": "text/x-python",
   "name": "python",
   "nbconvert_exporter": "python",
   "pygments_lexer": "ipython3",
   "version": "3.8.16"
  }
 },
 "nbformat": 4,
 "nbformat_minor": 0
}
